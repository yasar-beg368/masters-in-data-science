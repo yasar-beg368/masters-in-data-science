{
 "cells": [
  {
   "cell_type": "markdown",
   "id": "48fd134f-d931-4d52-9c01-c6f8c59c88bd",
   "metadata": {},
   "source": [
    "Q1. How do you comment code in Python? What are the different types of comments?"
   ]
  },
  {
   "cell_type": "markdown",
   "id": "18e52c16-4063-4896-8ef3-04c4d845a811",
   "metadata": {},
   "source": [
    "In Python, you can add comments to your code to make it more readable and to provide explanations or documentation about the code. Comments are lines that are ignored by the Python interpreter when executing the code. There are two types of comments in Python: single-line comments and multi-line comments."
   ]
  },
  {
   "cell_type": "markdown",
   "id": "4db516f6-e3b9-4efd-a849-aaaa285ff1f6",
   "metadata": {},
   "source": [
    "1.-> Single-line comments:\n",
    "To create a single-line comment, you can use the # symbol. Everything after the # symbol on the same line will be considered a comment. Here's an example:"
   ]
  },
  {
   "cell_type": "code",
   "execution_count": 2,
   "id": "a6185431-5596-441a-bed3-34a82bb44c5e",
   "metadata": {},
   "outputs": [
    {
     "name": "stdout",
     "output_type": "stream",
     "text": [
      "yasar mirza\n"
     ]
    }
   ],
   "source": [
    "print(\"yasar mirza\")#I am data scintist"
   ]
  },
  {
   "cell_type": "markdown",
   "id": "2b2c9c4e-71c1-4a59-81c5-a930b07f27ed",
   "metadata": {},
   "source": [
    "2.-> Multi-line comments:\n",
    "Python does not have a specific syntax for multi-line comments, but you can use multi-line strings (also known as docstrings) to achieve a similar effect. When you place a string literal (enclosed in triple quotes) as the first line after a function, class, or module definition, it becomes a docstring. Docstrings are used for documentation purposes and can span multiple lines. Although not specifically designated as comments, they serve a similar purpose of providing explanations. Here's an example:"
   ]
  },
  {
   "cell_type": "markdown",
   "id": "02dc1026-bb7c-456b-a320-6b13ab555bd5",
   "metadata": {},
   "source": [
    "Q2. What are variables in Python? How do you declare and assign values to variables?"
   ]
  },
  {
   "cell_type": "markdown",
   "id": "b4e37729-1616-485d-a323-1acc553a2d5d",
   "metadata": {},
   "source": [
    "ans-> In Python, variables are used to store data values. They act as containers that hold different types of information, such as numbers, strings, or objects. Variables allow you to manipulate and access data throughout your program.\n",
    "\n",
    "To declare and assign a value to a variable in Python, you simply use the following syntax:"
   ]
  },
  {
   "cell_type": "code",
   "execution_count": null,
   "id": "423f33d8-c00b-4012-b6e7-bae8e784cc8e",
   "metadata": {},
   "outputs": [],
   "source": [
    "variable_name = value"
   ]
  },
  {
   "cell_type": "markdown",
   "id": "02531bd4-a47f-4024-8cdb-ca10cbb7f083",
   "metadata": {},
   "source": [
    "Here, variable_name is the name you choose for your variable, and value is the data you want to assign to it.\n",
    "\n",
    "Here's an example that demonstrates variable declaration and assignment:"
   ]
  },
  {
   "cell_type": "code",
   "execution_count": 3,
   "id": "54b9ffce-e93a-47cb-8662-cc8200ec3601",
   "metadata": {},
   "outputs": [
    {
     "name": "stdout",
     "output_type": "stream",
     "text": [
      "Hello, World!\n",
      "42\n",
      "3.14159\n"
     ]
    }
   ],
   "source": [
    "# Declare and assign a value to a variable\n",
    "message = \"Hello, World!\"\n",
    "number = 42\n",
    "pi = 3.14159\n",
    "\n",
    "# Print the values of the variables\n",
    "print(message)\n",
    "print(number)\n",
    "print(pi)"
   ]
  },
  {
   "cell_type": "markdown",
   "id": "7ffe343c-48b4-4745-998a-1cb17ec875a2",
   "metadata": {},
   "source": [
    "In the above example, three variables (message, number, and pi) are declared and assigned different values. The print() function is then used to display the values of these variables."
   ]
  },
  {
   "cell_type": "markdown",
   "id": "96add71a-b602-4b90-be44-dc8eccefa6e3",
   "metadata": {},
   "source": [
    "for example, in the code snippet above, message is a string, number is an integer, and pi is a floating-point number."
   ]
  },
  {
   "cell_type": "markdown",
   "id": "ac33cbe9-e846-4487-9695-14f404008aaa",
   "metadata": {},
   "source": [
    "Q3. How do you convert one data type to another in Python?"
   ]
  },
  {
   "cell_type": "markdown",
   "id": "4c76ee08-1785-4213-b5a7-116dab3cfab9",
   "metadata": {},
   "source": [
    "In Python, you can convert one data type to another using type conversion functions or methods. Here are some commonly used methods for type conversion:\n",
    "\n",
    "1->int(): Converts a value to an integer data type. It can convert numeric strings or floating-point numbers to integers."
   ]
  },
  {
   "cell_type": "code",
   "execution_count": 1,
   "id": "328547d6-6812-43ce-acae-9dcce83a6de5",
   "metadata": {},
   "outputs": [
    {
     "name": "stdout",
     "output_type": "stream",
     "text": [
      "10\n",
      "3\n"
     ]
    }
   ],
   "source": [
    "num_str = \"10\"\n",
    "num_int = int(num_str)\n",
    "print(num_int)  # Output: 10\n",
    "\n",
    "float_num = 3.14\n",
    "int_num = int(float_num)\n",
    "print(int_num)  # Output: 3"
   ]
  },
  {
   "cell_type": "markdown",
   "id": "866380c4-4af4-4f1d-9d3d-aa71aad0fcce",
   "metadata": {},
   "source": [
    "Q4. How do you write and execute a Python script from the command line?\n",
    "ans->To write and execute a Python script from the command line, you can follow these steps:\n",
    "\n",
    "1.Open a text editor and create a new file with a '.py' extension. For example, you can use script.py as the file name.\n",
    "\n",
    "2.In the text editor, write your Python code in the newly created file. For example, you can write a simple \"Hello, World!\" program:\n",
    "3.Save the file and remember the location where you saved it.\n",
    "\n",
    "4.Open a command prompt or terminal window.\n",
    "\n",
    "5.Navigate to the directory where you saved the Python script using the cd command. For example, if you saved the script in the Documents folder, you can use the following command on Windows:"
   ]
  },
  {
   "cell_type": "markdown",
   "id": "ab7bf37f-e4d9-40e4-be91-9564e27a675c",
   "metadata": {},
   "source": [
    "Q5. Given a list my_list = [1, 2, 3, 4, 5], write the code to slice the list and obtain the sub-list [2, 3]."
   ]
  },
  {
   "cell_type": "code",
   "execution_count": 4,
   "id": "ed76d7d2-5ea6-44f6-acf2-2af834a21f65",
   "metadata": {},
   "outputs": [
    {
     "data": {
      "text/plain": [
       "[2, 3]"
      ]
     },
     "execution_count": 4,
     "metadata": {},
     "output_type": "execute_result"
    }
   ],
   "source": [
    "my_list = [1, 2, 3, 4, 5]\n",
    "my_list[:]\n",
    "my_list[1:3]"
   ]
  },
  {
   "cell_type": "markdown",
   "id": "46953990-22d6-46ff-916e-32f83948ae27",
   "metadata": {},
   "source": [
    "Q6. What is a complex number in mathematics, and how is it represented in Python?\n",
    "ams->In mathematics, a complex number is a number of the form \"a + bi\", where \"a\" and \"b\" are real numbers, and \"i\" is the imaginary unit. The imaginary unit \"i\" is defined as the square root of -1. The real part of a complex number is represented by \"a\", and the imaginary part is represented by \"b\".\n"
   ]
  },
  {
   "cell_type": "code",
   "execution_count": 5,
   "id": "8e2807d6-9bb2-4ab4-9544-4bb0116932a5",
   "metadata": {},
   "outputs": [
    {
     "name": "stdout",
     "output_type": "stream",
     "text": [
      "(2+5j)\n"
     ]
    },
    {
     "data": {
      "text/plain": [
       "complex"
      ]
     },
     "execution_count": 5,
     "metadata": {},
     "output_type": "execute_result"
    }
   ],
   "source": [
    "a=2+5j\n",
    "print(a)\n",
    "type(a)"
   ]
  },
  {
   "cell_type": "markdown",
   "id": "b3f94547-aa87-46cc-850d-d909f190dba4",
   "metadata": {},
   "source": [
    "Q7. What is the correct way to declare a variable named age and assign the value 25 to it?\n",
    "ans->\n",
    "The correct way to declare a variable named age and assign the value 25 to it in Python is as follows:"
   ]
  },
  {
   "cell_type": "code",
   "execution_count": 6,
   "id": "3e5db2df-5cbb-428e-88f2-fad61bbfba12",
   "metadata": {},
   "outputs": [
    {
     "name": "stdout",
     "output_type": "stream",
     "text": [
      "25\n"
     ]
    }
   ],
   "source": [
    "age=25\n",
    "print(age)"
   ]
  },
  {
   "cell_type": "markdown",
   "id": "f52ee078-7f47-46f4-b5fd-099f1b2be6bd",
   "metadata": {},
   "source": [
    "Q8. Declare a variable named price and assign the value 9.99 to it. What data type does this variable\n",
    "belong to?\n"
   ]
  },
  {
   "cell_type": "code",
   "execution_count": 7,
   "id": "91104976-43d8-470f-898c-41338ed3dd25",
   "metadata": {},
   "outputs": [
    {
     "name": "stdout",
     "output_type": "stream",
     "text": [
      "9.99\n"
     ]
    }
   ],
   "source": [
    "price=9.99\n",
    "print(price)"
   ]
  },
  {
   "cell_type": "code",
   "execution_count": 8,
   "id": "3349c90c-57d1-4d74-ac15-a1bae30944e8",
   "metadata": {},
   "outputs": [
    {
     "data": {
      "text/plain": [
       "float"
      ]
     },
     "execution_count": 8,
     "metadata": {},
     "output_type": "execute_result"
    }
   ],
   "source": [
    "type(price)"
   ]
  },
  {
   "cell_type": "markdown",
   "id": "c9e21204-7055-4f8b-abbf-65a60973d630",
   "metadata": {},
   "source": [
    "In the above example the data type of price is float"
   ]
  },
  {
   "cell_type": "markdown",
   "id": "1d8a263d-f2c1-4eee-8be8-7e05c2a56f20",
   "metadata": {},
   "source": [
    "Q9. Create a variable named name and assign your full name to it as a string. How would you print the\n",
    "value of this variable?"
   ]
  },
  {
   "cell_type": "code",
   "execution_count": 9,
   "id": "ba952033-3559-46b8-a07b-6c411a516132",
   "metadata": {},
   "outputs": [
    {
     "name": "stdout",
     "output_type": "stream",
     "text": [
      "yasar beg\n"
     ]
    }
   ],
   "source": [
    "name=\"yasar beg\"\n",
    "print(name)"
   ]
  },
  {
   "cell_type": "code",
   "execution_count": 10,
   "id": "747c93a1-bdba-4fa4-9ff1-9a156d5a9c2f",
   "metadata": {},
   "outputs": [
    {
     "data": {
      "text/plain": [
       "str"
      ]
     },
     "execution_count": 10,
     "metadata": {},
     "output_type": "execute_result"
    }
   ],
   "source": [
    "type(name)"
   ]
  },
  {
   "cell_type": "markdown",
   "id": "f9f7bce4-31e1-4b27-93c7-b5d4aed74897",
   "metadata": {},
   "source": [
    "the data type of the variable name is string"
   ]
  },
  {
   "cell_type": "markdown",
   "id": "1296d1d8-694e-4ad7-b886-006025b142d1",
   "metadata": {},
   "source": [
    "Q10. Given the string \"Hello, World!\", extract the substring \"World\"."
   ]
  },
  {
   "cell_type": "code",
   "execution_count": 12,
   "id": "130d8a9d-0413-43ea-9639-b565d20e1ada",
   "metadata": {},
   "outputs": [
    {
     "name": "stdout",
     "output_type": "stream",
     "text": [
      "hello world\n"
     ]
    },
    {
     "data": {
      "text/plain": [
       "'world'"
      ]
     },
     "execution_count": 12,
     "metadata": {},
     "output_type": "execute_result"
    }
   ],
   "source": [
    "s=\"hello world\"\n",
    "print(s)\n",
    "s[6:]"
   ]
  },
  {
   "cell_type": "markdown",
   "id": "7ddab282-22cc-49d2-979e-d742c40fe6c7",
   "metadata": {},
   "source": [
    "Q11. Create a variable named \"is_student\" and assign it a boolean value indicating whether you are\n",
    "currently a student or not."
   ]
  },
  {
   "cell_type": "code",
   "execution_count": 13,
   "id": "cb30ebdc-d9f7-43b9-b1af-27f04b6b42a2",
   "metadata": {},
   "outputs": [],
   "source": [
    "is_student=True# indicating you are currently a student\n",
    "is_student=False# indicating you are not a student currently "
   ]
  },
  {
   "cell_type": "code",
   "execution_count": null,
   "id": "8a735b4f-2022-4941-9ee8-f9c8c909a342",
   "metadata": {},
   "outputs": [],
   "source": []
  }
 ],
 "metadata": {
  "kernelspec": {
   "display_name": "Python 3 (ipykernel)",
   "language": "python",
   "name": "python3"
  },
  "language_info": {
   "codemirror_mode": {
    "name": "ipython",
    "version": 3
   },
   "file_extension": ".py",
   "mimetype": "text/x-python",
   "name": "python",
   "nbconvert_exporter": "python",
   "pygments_lexer": "ipython3",
   "version": "3.10.8"
  }
 },
 "nbformat": 4,
 "nbformat_minor": 5
}
