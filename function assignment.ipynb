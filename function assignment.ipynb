{
 "cells": [
  {
   "cell_type": "markdown",
   "id": "5d898ed6-1c85-4ff5-83b1-2f3977d01d25",
   "metadata": {},
   "source": [
    "Q1. Which keyword is used to create a function? Create a function to return a list of odd numbers in the\n",
    "range of 1 to 25.\n",
    "\n",
    "\n",
    "ANS->The keyword used to create a function in Python is \"def\"."
   ]
  },
  {
   "cell_type": "code",
   "execution_count": 2,
   "id": "40cea8d9-5a8d-45e7-a088-2fea61532eb5",
   "metadata": {},
   "outputs": [
    {
     "data": {
      "text/plain": [
       "[1, 3, 5, 7, 9, 11, 13, 15, 17, 19, 21, 23, 25]"
      ]
     },
     "execution_count": 2,
     "metadata": {},
     "output_type": "execute_result"
    }
   ],
   "source": [
    "def odd_no():\n",
    "    odd_numbers=[]\n",
    "    for i in range(1,26):\n",
    "        if i%2!=0:\n",
    "            odd_numbers.append(i)\n",
    "    return odd_numbers\n",
    "odd_no()"
   ]
  },
  {
   "cell_type": "markdown",
   "id": "d88c4505-8227-4007-a8b2-94a6d7496700",
   "metadata": {},
   "source": [
    "Q2. Why *args and **kwargs is used in some functions? Create a function each for *args and **kwargs to\n",
    "demonstrate their use.\n",
    "\n",
    "\n",
    "ANS->\n",
    "In Python, *args and **kwargs are used in function definitions to allow the function to accept a variable number of arguments.\n",
    "\n",
    "1.*args:\n",
    "->The *args syntax allows a function to accept any number of positional arguments.\n",
    "->It collects all the positional arguments passed to the function into a tuple.\n",
    "->The name args is just a convention; you can choose any valid variable name.\n",
    "->It is useful when the number of arguments is unknown or can vary.\n",
    "     Here's an example to demonstrate the use of *args:"
   ]
  },
  {
   "cell_type": "code",
   "execution_count": 4,
   "id": "ee51a0ca-f8df-485b-9c8d-eb2c630e9c0c",
   "metadata": {},
   "outputs": [
    {
     "name": "stdout",
     "output_type": "stream",
     "text": [
      "Hello World\n",
      "I am YASAR\n"
     ]
    }
   ],
   "source": [
    "def concatenate_strings(*args):\n",
    "    result = \"\"\n",
    "    for string in args:\n",
    "        result += string\n",
    "    return result\n",
    "\n",
    "# Calling the function with different number of arguments\n",
    "print(concatenate_strings(\"Hello \", \"World\"))\n",
    "print(concatenate_strings(\"I\", \" \", \"am\", \" \", \"YASAR\"))"
   ]
  },
  {
   "cell_type": "markdown",
   "id": "827b272a-b139-4834-bc97-201f5e4996f1",
   "metadata": {},
   "source": [
    "2.**kwargs:\n",
    "->The **kwargs syntax allows a function to accept any number of keyword arguments.\n",
    "->It collects all the keyword arguments passed to the function into a dictionary.\n",
    "->The name kwargs is just a convention; you can choose any valid variable name.\n",
    "->It is useful when you want to pass a variable number of keyword arguments or when you don't know the exact number of keyword arguments in advance.\n",
    "      Here's an example to demonstrate the use of **kwargs:"
   ]
  },
  {
   "cell_type": "code",
   "execution_count": 6,
   "id": "e9ecf82c-4eb5-45c4-8598-8be4b0ff5bb0",
   "metadata": {},
   "outputs": [
    {
     "name": "stdout",
     "output_type": "stream",
     "text": [
      "name: YASAR BEG\n",
      "age: 25\n",
      "name: YASAR MIRZA\n",
      "age: 28\n",
      "major: Computer Science\n"
     ]
    }
   ],
   "source": [
    "def print_student_details(**kwargs):\n",
    "    for key, value in kwargs.items():\n",
    "        print(f\"{key}: {value}\")\n",
    "\n",
    "# Calling the function with different keyword arguments\n",
    "print_student_details(name=\"YASAR BEG\", age=25)\n",
    "print_student_details(name=\"YASAR MIRZA\", age=28, major=\"Computer Science\")"
   ]
  },
  {
   "cell_type": "markdown",
   "id": "85d20a4e-f31b-4a01-ad0b-a5995df8642b",
   "metadata": {},
   "source": [
    "Q3. What is an iterator in python? Name the method used to initialise the iterator object and the method\n",
    "used for iteration. Use these methods to print the first five elements of the given list [2, 4, 6, 8, 10, 12, 14, 16,\n",
    "18, 20].\n",
    "\n",
    "\n",
    "ANS-> \n",
    "In Python, an iterator is an object that implements the iterator protocol, which consists of two methods: __iter__() and __next__().\n",
    "\n",
    "1->__iter__() method:\n",
    "\n",
    "->This method is used to initialize the iterator object.\n",
    "->It returns the iterator object itself.\n",
    "->It is called when the iterator is created or reset.\n",
    "2. __next__() method:\n",
    "\n",
    "->This method is used to retrieve the next item from the iterator.\n",
    "->It returns the next item in the iteration.\n",
    "->If there are no more items, it raises the StopIteration exception.\n",
    "->To print the first five elements of the given list [2, 4, 6, 8, 10, 12, 14, 16, 18, 20], we can create an iterator object and use the __next__() method in a loop to iterate over the elements.\n",
    "\n",
    "Here's an example:"
   ]
  },
  {
   "cell_type": "code",
   "execution_count": 7,
   "id": "d0f4b732-935c-4838-89d6-77d6db271e3f",
   "metadata": {},
   "outputs": [
    {
     "name": "stdout",
     "output_type": "stream",
     "text": [
      "2\n",
      "4\n",
      "6\n",
      "8\n",
      "10\n"
     ]
    }
   ],
   "source": [
    "my_list = [2, 4, 6, 8, 10, 12, 14, 16, 18, 20]\n",
    "\n",
    "# Create an iterator object\n",
    "my_iterator = iter(my_list)\n",
    "\n",
    "# Iterate using the iterator\n",
    "for _ in range(5):\n",
    "    element = next(my_iterator)\n",
    "    print(element)"
   ]
  },
  {
   "cell_type": "markdown",
   "id": "07c055b3-c273-491f-8b52-0d8f7154a7ea",
   "metadata": {},
   "source": [
    "Q4. What is a generator function in python? Why yield keyword is used? Give an example of a generator\n",
    "function.\n",
    "\n",
    "\n",
    "ANS->  In Python, a generator function is a special type of function that allows you to create an iterator. It uses the yield keyword instead of return to return a sequence of values, one at a time, from within a loop. The generator function generates values on-the-fly as they are requested, rather than generating all the values at once and storing them in memory.\n",
    "\n",
    "The yield keyword is used to define the points at which the generator should pause and yield a value. When a generator function encounters the yield keyword, it temporarily suspends its execution and returns the yielded value. The function's state is saved so that it can be resumed from where it left off the next time a value is requested.\n",
    "\n",
    "Here's an example of a generator function that generates Fibonacci numbers:"
   ]
  },
  {
   "cell_type": "code",
   "execution_count": 8,
   "id": "e837fc26-4105-40c3-943b-6b9ef9f7adcb",
   "metadata": {},
   "outputs": [],
   "source": [
    "def fibonacci():\n",
    "    a, b = 0, 1\n",
    "    while True:\n",
    "        yield a\n",
    "        a, b = b, a + b"
   ]
  },
  {
   "cell_type": "code",
   "execution_count": 9,
   "id": "0b728dc9-5fae-4dc7-9538-6e879b1d0295",
   "metadata": {},
   "outputs": [
    {
     "name": "stdout",
     "output_type": "stream",
     "text": [
      "0\n",
      "1\n",
      "1\n",
      "2\n",
      "3\n",
      "5\n",
      "8\n",
      "13\n",
      "21\n",
      "34\n"
     ]
    }
   ],
   "source": [
    "fib_gen = fibonacci()\n",
    "\n",
    "# Generate and print the first 10 Fibonacci numbers\n",
    "for _ in range(10):\n",
    "    print(next(fib_gen))"
   ]
  },
  {
   "cell_type": "markdown",
   "id": "77bb8af5-6ffd-4f9c-b76c-aa93d16efcbf",
   "metadata": {},
   "source": [
    "Q5. Create a generator function for prime numbers less than 1000. Use the next() method to print the\n",
    "first 20 prime numbers."
   ]
  },
  {
   "cell_type": "code",
   "execution_count": 10,
   "id": "ce7c4836-0ac6-4c04-9b01-8fb780e0c6f0",
   "metadata": {},
   "outputs": [
    {
     "name": "stdout",
     "output_type": "stream",
     "text": [
      "2\n",
      "3\n",
      "5\n",
      "7\n",
      "11\n",
      "13\n",
      "17\n",
      "19\n",
      "23\n",
      "29\n",
      "31\n",
      "37\n",
      "41\n",
      "43\n",
      "47\n",
      "53\n",
      "59\n",
      "61\n",
      "67\n",
      "71\n"
     ]
    }
   ],
   "source": [
    "def prime_generator():\n",
    "    primes = []\n",
    "    num = 2\n",
    "    while num < 1000:\n",
    "        is_prime = True\n",
    "        for prime in primes:\n",
    "            if num % prime == 0:\n",
    "                is_prime = False\n",
    "                break\n",
    "        if is_prime:\n",
    "            primes.append(num)\n",
    "            yield num\n",
    "        num += 1\n",
    "\n",
    "# Create the prime number generator\n",
    "prime_gen = prime_generator()\n",
    "\n",
    "# Print the first 20 prime numbers\n",
    "for _ in range(20):\n",
    "    print(next(prime_gen))"
   ]
  },
  {
   "cell_type": "code",
   "execution_count": null,
   "id": "a0452865-7e12-4494-ba16-19a078d9f02c",
   "metadata": {},
   "outputs": [],
   "source": []
  }
 ],
 "metadata": {
  "kernelspec": {
   "display_name": "Python 3 (ipykernel)",
   "language": "python",
   "name": "python3"
  },
  "language_info": {
   "codemirror_mode": {
    "name": "ipython",
    "version": 3
   },
   "file_extension": ".py",
   "mimetype": "text/x-python",
   "name": "python",
   "nbconvert_exporter": "python",
   "pygments_lexer": "ipython3",
   "version": "3.10.8"
  }
 },
 "nbformat": 4,
 "nbformat_minor": 5
}
